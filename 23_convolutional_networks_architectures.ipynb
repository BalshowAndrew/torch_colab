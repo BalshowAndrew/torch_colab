{
 "cells": [
  {
   "cell_type": "markdown",
   "id": "e181825e",
   "metadata": {},
   "source": [
    "# Convolutional Networks Architectures"
   ]
  },
  {
   "cell_type": "code",
   "execution_count": 33,
   "id": "422c7ee1",
   "metadata": {},
   "outputs": [],
   "source": [
    "import torch\n",
    "from torch import nn\n",
    "import torchvision as tv\n",
    "from torchsummary import summary\n",
    "\n",
    "from func import train"
   ]
  },
  {
   "cell_type": "code",
   "execution_count": 34,
   "id": "81bf257e",
   "metadata": {},
   "outputs": [
    {
     "data": {
      "application/vnd.google.colaboratory.intrinsic+json": {
       "type": "string"
      },
      "text/plain": [
       "'cuda'"
      ]
     },
     "execution_count": 34,
     "metadata": {},
     "output_type": "execute_result"
    }
   ],
   "source": [
    "device = 'cuda' if torch.cuda.is_available() else 'cpu'\n",
    "device"
   ]
  },
  {
   "cell_type": "markdown",
   "id": "c1268d13",
   "metadata": {},
   "source": [
    "## Dataset"
   ]
  },
  {
   "cell_type": "code",
   "execution_count": 35,
   "id": "d4f70cd9",
   "metadata": {},
   "outputs": [],
   "source": [
    "BATCH_SIZE = 256\n",
    "transforms = tv.transforms.Compose([\n",
    "    tv.transforms.Resize((224, 224)),\n",
    "    tv.transforms.ToTensor()\n",
    "])\n",
    "train_dataset = tv.datasets.MNIST('./datas', train=True, transform=transforms, download=True)\n",
    "test_dataset = tv.datasets.MNIST('./datas', train=False, transform=transforms, download=True)\n",
    "train_iter = torch.utils.data.DataLoader(train_dataset, batch_size=BATCH_SIZE)\n",
    "test_iter = torch.utils.data.DataLoader(test_dataset, batch_size=BATCH_SIZE)"
   ]
  },
  {
   "cell_type": "markdown",
   "id": "68a842a8",
   "metadata": {},
   "source": [
    "## AlexNet"
   ]
  },
  {
   "cell_type": "code",
   "execution_count": 42,
   "id": "87df0104",
   "metadata": {},
   "outputs": [],
   "source": [
    "net = nn.Sequential(\n",
    "    nn.Conv2d(1, 96, kernel_size=11, stride=4),\n",
    "    nn.ReLU(),\n",
    "    nn.MaxPool2d(3, stride=2),\n",
    "    nn.Conv2d(96, 256, kernel_size=5, padding=2),\n",
    "    nn.ReLU(),\n",
    "    nn.MaxPool2d(3, stride=2),\n",
    "    nn.Conv2d(256, 384, kernel_size=3, padding=1),\n",
    "    nn.ReLU(),\n",
    "    nn.Conv2d(384, 384, kernel_size=3, padding=1),\n",
    "    nn.ReLU(),\n",
    "    nn.Conv2d(384, 256, kernel_size=3, padding=1),\n",
    "    nn.ReLU(),\n",
    "    nn.MaxPool2d(3, stride=2),\n",
    "    nn.Flatten(),\n",
    "    nn.Linear(6400, 4096),\n",
    "    nn.ReLU(),\n",
    "    nn.Dropout(0.5),\n",
    "    nn.Linear(4096, 4096),\n",
    "    nn.ReLU(),\n",
    "    nn.Dropout(0.5),\n",
    "    nn.Linear(4096, 10)\n",
    ")"
   ]
  },
  {
   "cell_type": "code",
   "execution_count": 43,
   "id": "e8081855",
   "metadata": {},
   "outputs": [
    {
     "name": "stdout",
     "output_type": "stream",
     "text": [
      "----------------------------------------------------------------\n",
      "        Layer (type)               Output Shape         Param #\n",
      "================================================================\n",
      "            Conv2d-1           [-1, 96, 54, 54]          11,712\n",
      "              ReLU-2           [-1, 96, 54, 54]               0\n",
      "         MaxPool2d-3           [-1, 96, 26, 26]               0\n",
      "            Conv2d-4          [-1, 256, 26, 26]         614,656\n",
      "              ReLU-5          [-1, 256, 26, 26]               0\n",
      "         MaxPool2d-6          [-1, 256, 12, 12]               0\n",
      "            Conv2d-7          [-1, 384, 12, 12]         885,120\n",
      "              ReLU-8          [-1, 384, 12, 12]               0\n",
      "            Conv2d-9          [-1, 384, 12, 12]       1,327,488\n",
      "             ReLU-10          [-1, 384, 12, 12]               0\n",
      "           Conv2d-11          [-1, 256, 12, 12]         884,992\n",
      "             ReLU-12          [-1, 256, 12, 12]               0\n",
      "        MaxPool2d-13            [-1, 256, 5, 5]               0\n",
      "          Flatten-14                 [-1, 6400]               0\n",
      "           Linear-15                 [-1, 4096]      26,218,496\n",
      "             ReLU-16                 [-1, 4096]               0\n",
      "          Dropout-17                 [-1, 4096]               0\n",
      "           Linear-18                 [-1, 4096]      16,781,312\n",
      "             ReLU-19                 [-1, 4096]               0\n",
      "          Dropout-20                 [-1, 4096]               0\n",
      "           Linear-21                   [-1, 10]          40,970\n",
      "================================================================\n",
      "Total params: 46,764,746\n",
      "Trainable params: 46,764,746\n",
      "Non-trainable params: 0\n",
      "----------------------------------------------------------------\n",
      "Input size (MB): 0.19\n",
      "Forward/backward pass size (MB): 10.22\n",
      "Params size (MB): 178.39\n",
      "Estimated Total Size (MB): 188.81\n",
      "----------------------------------------------------------------\n"
     ]
    }
   ],
   "source": [
    "summary(net.to(device), input_size=(1, 224, 224))"
   ]
  },
  {
   "cell_type": "code",
   "execution_count": 41,
   "id": "fc745866",
   "metadata": {},
   "outputs": [
    {
     "name": "stdout",
     "output_type": "stream",
     "text": [
      "Step 0, time since epoch: 0.182. Train acc: 0.121. Train Loss: 2.303\n"
     ]
    },
    {
     "name": "stdout",
     "output_type": "stream",
     "text": [
      "Step 10, time since epoch: 2.136. Train acc: 0.111. Train Loss: 2.323\n",
      "Step 20, time since epoch: 3.897. Train acc: 0.193. Train Loss: 2.187\n",
      "Step 30, time since epoch: 5.672. Train acc: 0.333. Train Loss: 1.844\n",
      "Step 40, time since epoch: 7.463. Train acc: 0.436. Train Loss: 1.581\n",
      "Step 50, time since epoch: 9.250. Train acc: 0.517. Train Loss: 1.365\n",
      "Step 60, time since epoch: 11.064. Train acc: 0.577. Train Loss: 1.198\n",
      "Step 70, time since epoch: 12.911. Train acc: 0.622. Train Loss: 1.075\n",
      "Step 80, time since epoch: 14.731. Train acc: 0.662. Train Loss: 0.968\n",
      "Step 90, time since epoch: 16.516. Train acc: 0.693. Train Loss: 0.880\n",
      "Step 100, time since epoch: 18.290. Train acc: 0.718. Train Loss: 0.808\n",
      "Step 110, time since epoch: 20.063. Train acc: 0.738. Train Loss: 0.752\n",
      "Step 120, time since epoch: 21.835. Train acc: 0.756. Train Loss: 0.702\n",
      "Step 130, time since epoch: 23.606. Train acc: 0.772. Train Loss: 0.660\n",
      "Step 140, time since epoch: 25.400. Train acc: 0.785. Train Loss: 0.621\n",
      "Step 150, time since epoch: 27.370. Train acc: 0.797. Train Loss: 0.587\n",
      "Step 160, time since epoch: 29.182. Train acc: 0.808. Train Loss: 0.558\n",
      "Step 170, time since epoch: 30.960. Train acc: 0.817. Train Loss: 0.532\n",
      "Step 180, time since epoch: 32.731. Train acc: 0.825. Train Loss: 0.510\n",
      "Step 190, time since epoch: 34.499. Train acc: 0.832. Train Loss: 0.488\n",
      "Step 200, time since epoch: 36.265. Train acc: 0.839. Train Loss: 0.469\n",
      "Step 210, time since epoch: 38.057. Train acc: 0.845. Train Loss: 0.451\n",
      "Step 220, time since epoch: 39.886. Train acc: 0.851. Train Loss: 0.434\n",
      "Step 230, time since epoch: 41.687. Train acc: 0.857. Train Loss: 0.418\n",
      "epoch 1, loss 0.4133, train acc 0.859, test acc 0.980, time 47.8 sec\n"
     ]
    }
   ],
   "source": [
    "lr, num_epochs = 0.001, 1\n",
    "optimizer = torch.optim.Adam(net.parameters(), lr=lr)\n",
    "train(net, train_iter, test_iter, optimizer, num_epochs, device)"
   ]
  },
  {
   "cell_type": "markdown",
   "id": "3c6d368d",
   "metadata": {},
   "source": [
    "## VGG"
   ]
  },
  {
   "cell_type": "code",
   "execution_count": null,
   "id": "cb2d944d",
   "metadata": {},
   "outputs": [],
   "source": []
  },
  {
   "cell_type": "markdown",
   "id": "282746bf",
   "metadata": {},
   "source": []
  }
 ],
 "metadata": {
  "kernelspec": {
   "display_name": "new-kernel",
   "language": "python",
   "name": "new-kernel"
  },
  "language_info": {
   "codemirror_mode": {
    "name": "ipython",
    "version": 3
   },
   "file_extension": ".py",
   "mimetype": "text/x-python",
   "name": "python",
   "nbconvert_exporter": "python",
   "pygments_lexer": "ipython3",
   "version": "3.11.12"
  }
 },
 "nbformat": 4,
 "nbformat_minor": 5
}
