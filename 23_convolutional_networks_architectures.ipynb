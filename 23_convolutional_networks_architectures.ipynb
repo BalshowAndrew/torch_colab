{
 "cells": [
  {
   "cell_type": "markdown",
   "id": "e181825e",
   "metadata": {},
   "source": [
    "# Convolutional Networks Architectures"
   ]
  },
  {
   "cell_type": "code",
   "execution_count": 1,
   "id": "422c7ee1",
   "metadata": {},
   "outputs": [],
   "source": [
    "import torch\n",
    "from torch import nn\n",
    "import torchvision as tv\n",
    "from torchsummary import summary\n",
    "\n",
    "from func import train"
   ]
  },
  {
   "cell_type": "code",
   "execution_count": 21,
   "id": "81bf257e",
   "metadata": {},
   "outputs": [
    {
     "data": {
      "application/vnd.google.colaboratory.intrinsic+json": {
       "type": "string"
      },
      "text/plain": [
       "'cuda'"
      ]
     },
     "execution_count": 21,
     "metadata": {},
     "output_type": "execute_result"
    }
   ],
   "source": [
    "device = 'cuda' if torch.cuda.is_available() else 'cpu'\n",
    "device"
   ]
  },
  {
   "cell_type": "markdown",
   "id": "c1268d13",
   "metadata": {},
   "source": [
    "## Dataset"
   ]
  },
  {
   "cell_type": "code",
   "execution_count": 3,
   "id": "d4f70cd9",
   "metadata": {},
   "outputs": [],
   "source": [
    "BATCH_SIZE = 256\n",
    "transforms = tv.transforms.Compose([\n",
    "    tv.transforms.Resize((224, 224)),\n",
    "    tv.transforms.ToTensor()\n",
    "])\n",
    "train_dataset = tv.datasets.MNIST('./datas', train=True, transform=transforms, download=True)\n",
    "test_dataset = tv.datasets.MNIST('./datas', train=False, transform=transforms, download=True)\n",
    "train_iter = torch.utils.data.DataLoader(train_dataset, batch_size=BATCH_SIZE)\n",
    "test_iter = torch.utils.data.DataLoader(test_dataset, batch_size=BATCH_SIZE)"
   ]
  },
  {
   "cell_type": "markdown",
   "id": "68a842a8",
   "metadata": {},
   "source": [
    "## AlexNet"
   ]
  },
  {
   "cell_type": "code",
   "execution_count": 4,
   "id": "87df0104",
   "metadata": {},
   "outputs": [],
   "source": [
    "net = nn.Sequential(\n",
    "    nn.Conv2d(1, 96, kernel_size=11, stride=4),\n",
    "    nn.ReLU(),\n",
    "    nn.MaxPool2d(3, stride=2),\n",
    "    nn.Conv2d(96, 256, kernel_size=5, padding=2),\n",
    "    nn.ReLU(),\n",
    "    nn.MaxPool2d(3, stride=2),\n",
    "    nn.Conv2d(256, 384, kernel_size=3, padding=1),\n",
    "    nn.ReLU(),\n",
    "    nn.Conv2d(384, 384, kernel_size=3, padding=1),\n",
    "    nn.ReLU(),\n",
    "    nn.Conv2d(384, 256, kernel_size=3, padding=1),\n",
    "    nn.ReLU(),\n",
    "    nn.MaxPool2d(3, stride=2),\n",
    "    nn.Flatten(),\n",
    "    nn.Linear(6400, 4096),\n",
    "    nn.ReLU(),\n",
    "    nn.Dropout(0.5),\n",
    "    nn.Linear(4096, 4096),\n",
    "    nn.ReLU(),\n",
    "    nn.Dropout(0.5),\n",
    "    nn.Linear(4096, 10)\n",
    ")"
   ]
  },
  {
   "cell_type": "code",
   "execution_count": 5,
   "id": "e8081855",
   "metadata": {},
   "outputs": [
    {
     "name": "stdout",
     "output_type": "stream",
     "text": [
      "----------------------------------------------------------------\n",
      "        Layer (type)               Output Shape         Param #\n",
      "================================================================\n",
      "            Conv2d-1           [-1, 96, 54, 54]          11,712\n",
      "              ReLU-2           [-1, 96, 54, 54]               0\n",
      "         MaxPool2d-3           [-1, 96, 26, 26]               0\n",
      "            Conv2d-4          [-1, 256, 26, 26]         614,656\n",
      "              ReLU-5          [-1, 256, 26, 26]               0\n",
      "         MaxPool2d-6          [-1, 256, 12, 12]               0\n",
      "            Conv2d-7          [-1, 384, 12, 12]         885,120\n",
      "              ReLU-8          [-1, 384, 12, 12]               0\n",
      "            Conv2d-9          [-1, 384, 12, 12]       1,327,488\n",
      "             ReLU-10          [-1, 384, 12, 12]               0\n",
      "           Conv2d-11          [-1, 256, 12, 12]         884,992\n",
      "             ReLU-12          [-1, 256, 12, 12]               0\n",
      "        MaxPool2d-13            [-1, 256, 5, 5]               0\n",
      "          Flatten-14                 [-1, 6400]               0\n",
      "           Linear-15                 [-1, 4096]      26,218,496\n",
      "             ReLU-16                 [-1, 4096]               0\n",
      "          Dropout-17                 [-1, 4096]               0\n",
      "           Linear-18                 [-1, 4096]      16,781,312\n",
      "             ReLU-19                 [-1, 4096]               0\n",
      "          Dropout-20                 [-1, 4096]               0\n",
      "           Linear-21                   [-1, 10]          40,970\n",
      "================================================================\n",
      "Total params: 46,764,746\n",
      "Trainable params: 46,764,746\n",
      "Non-trainable params: 0\n",
      "----------------------------------------------------------------\n",
      "Input size (MB): 0.19\n",
      "Forward/backward pass size (MB): 10.22\n",
      "Params size (MB): 178.39\n",
      "Estimated Total Size (MB): 188.81\n",
      "----------------------------------------------------------------\n"
     ]
    }
   ],
   "source": [
    "summary(net.to(device), input_size=(1, 224, 224))"
   ]
  },
  {
   "cell_type": "code",
   "execution_count": 6,
   "id": "fc745866",
   "metadata": {},
   "outputs": [
    {
     "name": "stdout",
     "output_type": "stream",
     "text": [
      "Step 0, time since epoch: 0.808. Train acc: 0.121. Train Loss: 2.302\n",
      "Step 10, time since epoch: 2.719. Train acc: 0.121. Train Loss: 2.317\n",
      "Step 20, time since epoch: 4.730. Train acc: 0.263. Train Loss: 2.086\n",
      "Step 30, time since epoch: 6.649. Train acc: 0.376. Train Loss: 1.782\n",
      "Step 40, time since epoch: 8.508. Train acc: 0.474. Train Loss: 1.518\n",
      "Step 50, time since epoch: 10.336. Train acc: 0.536. Train Loss: 1.347\n",
      "Step 60, time since epoch: 12.210. Train acc: 0.584. Train Loss: 1.212\n",
      "Step 70, time since epoch: 14.057. Train acc: 0.624. Train Loss: 1.101\n",
      "Step 80, time since epoch: 15.867. Train acc: 0.658. Train Loss: 1.001\n",
      "Step 90, time since epoch: 17.676. Train acc: 0.686. Train Loss: 0.922\n",
      "Step 100, time since epoch: 19.541. Train acc: 0.709. Train Loss: 0.855\n",
      "Step 110, time since epoch: 21.328. Train acc: 0.730. Train Loss: 0.798\n",
      "Step 120, time since epoch: 23.127. Train acc: 0.747. Train Loss: 0.749\n",
      "Step 130, time since epoch: 24.975. Train acc: 0.762. Train Loss: 0.705\n",
      "Step 140, time since epoch: 26.911. Train acc: 0.776. Train Loss: 0.665\n",
      "Step 150, time since epoch: 28.740. Train acc: 0.788. Train Loss: 0.629\n",
      "Step 160, time since epoch: 30.530. Train acc: 0.799. Train Loss: 0.598\n",
      "Step 170, time since epoch: 32.359. Train acc: 0.808. Train Loss: 0.572\n",
      "Step 180, time since epoch: 34.199. Train acc: 0.816. Train Loss: 0.547\n",
      "Step 190, time since epoch: 36.042. Train acc: 0.824. Train Loss: 0.526\n",
      "Step 200, time since epoch: 37.949. Train acc: 0.830. Train Loss: 0.508\n",
      "Step 210, time since epoch: 39.836. Train acc: 0.837. Train Loss: 0.489\n",
      "Step 220, time since epoch: 41.652. Train acc: 0.842. Train Loss: 0.471\n",
      "Step 230, time since epoch: 43.444. Train acc: 0.848. Train Loss: 0.454\n",
      "epoch 1, loss 0.4491, train acc 0.850, test acc 0.975, time 49.5 sec\n"
     ]
    }
   ],
   "source": [
    "lr, num_epochs = 0.001, 1\n",
    "optimizer = torch.optim.Adam(net.parameters(), lr=lr)\n",
    "train(net, train_iter, test_iter, optimizer, num_epochs, device)"
   ]
  },
  {
   "cell_type": "markdown",
   "id": "3c6d368d",
   "metadata": {},
   "source": [
    "## VGG"
   ]
  },
  {
   "cell_type": "code",
   "execution_count": 23,
   "id": "cb2d944d",
   "metadata": {},
   "outputs": [],
   "source": [
    "def vgg_block(num_convs, input_channels, num_channels):\n",
    "    blk = nn.Sequential(nn.Conv2d(input_channels, num_channels, kernel_size=3, padding=1), nn.ReLU())\n",
    "    for i in range(num_convs - 1):\n",
    "        blk.add_module(\"conv{}\".format(i), nn.Conv2d(num_channels, num_channels, kernel_size=3, padding=1))\n",
    "        blk.add_module(\"relu{}\".format(i), nn.ReLU())\n",
    "    blk.add_module(\"pool\", nn.MaxPool2d(2, stride=2))\n",
    "    return blk    \n"
   ]
  },
  {
   "cell_type": "code",
   "execution_count": 24,
   "id": "2018f4ec",
   "metadata": {},
   "outputs": [],
   "source": [
    "def vgg(conv_arch):\n",
    "    net = nn.Sequential()\n",
    "\n",
    "    for i, (num_convs, input_ch, num_channels) in enumerate(conv_arch):\n",
    "        net.add_module(\"block{}\".format(i), vgg_block(num_convs, input_ch, num_channels))\n",
    "\n",
    "    classifier = nn.Sequential(\n",
    "        nn.Flatten(),\n",
    "        nn.Linear(6272, 4096), nn.ReLU(), nn.Dropout(0.5),\n",
    "        nn.Linear(4096, 4096), nn.ReLU(), nn.Dropout(0.5),\n",
    "        nn.Linear(4096, 10) \n",
    "    )\n",
    "\n",
    "    net.add_module('classifier', classifier)\n",
    "    return net    "
   ]
  },
  {
   "cell_type": "code",
   "execution_count": 25,
   "id": "c310363e",
   "metadata": {},
   "outputs": [],
   "source": [
    "conv_arch = ((1, 1, 64), (1, 64, 128), (2, 128, 256), (2, 256, 512), (2, 512, 512))"
   ]
  },
  {
   "cell_type": "code",
   "execution_count": 26,
   "id": "6c9c6589",
   "metadata": {},
   "outputs": [],
   "source": [
    "ratio = 4\n",
    "small_conv_arch = [(v[0], max(v[1] // ratio, 1), v[2] // ratio) for v in conv_arch]\n",
    "net = vgg(small_conv_arch)"
   ]
  },
  {
   "cell_type": "code",
   "execution_count": 27,
   "id": "b18f91ae",
   "metadata": {},
   "outputs": [
    {
     "name": "stdout",
     "output_type": "stream",
     "text": [
      "----------------------------------------------------------------\n",
      "        Layer (type)               Output Shape         Param #\n",
      "================================================================\n",
      "            Conv2d-1         [-1, 16, 224, 224]             160\n",
      "              ReLU-2         [-1, 16, 224, 224]               0\n",
      "         MaxPool2d-3         [-1, 16, 112, 112]               0\n",
      "            Conv2d-4         [-1, 32, 112, 112]           4,640\n",
      "              ReLU-5         [-1, 32, 112, 112]               0\n",
      "         MaxPool2d-6           [-1, 32, 56, 56]               0\n",
      "            Conv2d-7           [-1, 64, 56, 56]          18,496\n",
      "              ReLU-8           [-1, 64, 56, 56]               0\n",
      "            Conv2d-9           [-1, 64, 56, 56]          36,928\n",
      "             ReLU-10           [-1, 64, 56, 56]               0\n",
      "        MaxPool2d-11           [-1, 64, 28, 28]               0\n",
      "           Conv2d-12          [-1, 128, 28, 28]          73,856\n",
      "             ReLU-13          [-1, 128, 28, 28]               0\n",
      "           Conv2d-14          [-1, 128, 28, 28]         147,584\n",
      "             ReLU-15          [-1, 128, 28, 28]               0\n",
      "        MaxPool2d-16          [-1, 128, 14, 14]               0\n",
      "           Conv2d-17          [-1, 128, 14, 14]         147,584\n",
      "             ReLU-18          [-1, 128, 14, 14]               0\n",
      "           Conv2d-19          [-1, 128, 14, 14]         147,584\n",
      "             ReLU-20          [-1, 128, 14, 14]               0\n",
      "        MaxPool2d-21            [-1, 128, 7, 7]               0\n",
      "          Flatten-22                 [-1, 6272]               0\n",
      "           Linear-23                 [-1, 4096]      25,694,208\n",
      "             ReLU-24                 [-1, 4096]               0\n",
      "          Dropout-25                 [-1, 4096]               0\n",
      "           Linear-26                 [-1, 4096]      16,781,312\n",
      "             ReLU-27                 [-1, 4096]               0\n",
      "          Dropout-28                 [-1, 4096]               0\n",
      "           Linear-29                   [-1, 10]          40,970\n",
      "================================================================\n",
      "Total params: 43,093,322\n",
      "Trainable params: 43,093,322\n",
      "Non-trainable params: 0\n",
      "----------------------------------------------------------------\n",
      "Input size (MB): 0.19\n",
      "Forward/backward pass size (MB): 31.48\n",
      "Params size (MB): 164.39\n",
      "Estimated Total Size (MB): 196.06\n",
      "----------------------------------------------------------------\n"
     ]
    }
   ],
   "source": [
    "summary(net.to(device), input_size=(1, 224, 224))"
   ]
  },
  {
   "cell_type": "code",
   "execution_count": 28,
   "id": "98568a8c",
   "metadata": {},
   "outputs": [
    {
     "name": "stdout",
     "output_type": "stream",
     "text": [
      "Step 0, time since epoch: 0.201. Train acc: 0.094. Train Loss: 2.302\n",
      "Step 10, time since epoch: 2.206. Train acc: 0.103. Train Loss: 2.303\n",
      "Step 20, time since epoch: 4.247. Train acc: 0.105. Train Loss: 2.302\n",
      "Step 30, time since epoch: 6.277. Train acc: 0.108. Train Loss: 2.302\n",
      "Step 40, time since epoch: 8.275. Train acc: 0.124. Train Loss: 2.292\n",
      "Step 50, time since epoch: 10.289. Train acc: 0.185. Train Loss: 2.158\n",
      "Step 60, time since epoch: 12.294. Train acc: 0.277. Train Loss: 1.931\n",
      "Step 70, time since epoch: 14.298. Train acc: 0.358. Train Loss: 1.726\n",
      "Step 80, time since epoch: 16.347. Train acc: 0.427. Train Loss: 1.544\n",
      "Step 90, time since epoch: 18.398. Train acc: 0.483. Train Loss: 1.399\n",
      "Step 100, time since epoch: 20.391. Train acc: 0.529. Train Loss: 1.279\n",
      "Step 110, time since epoch: 22.377. Train acc: 0.566. Train Loss: 1.181\n",
      "Step 120, time since epoch: 24.364. Train acc: 0.599. Train Loss: 1.095\n",
      "Step 130, time since epoch: 26.345. Train acc: 0.626. Train Loss: 1.021\n",
      "Step 140, time since epoch: 28.361. Train acc: 0.650. Train Loss: 0.956\n",
      "Step 150, time since epoch: 30.485. Train acc: 0.671. Train Loss: 0.900\n",
      "Step 160, time since epoch: 32.487. Train acc: 0.690. Train Loss: 0.850\n",
      "Step 170, time since epoch: 34.477. Train acc: 0.706. Train Loss: 0.807\n",
      "Step 180, time since epoch: 36.469. Train acc: 0.720. Train Loss: 0.770\n",
      "Step 190, time since epoch: 38.476. Train acc: 0.733. Train Loss: 0.735\n",
      "Step 200, time since epoch: 40.476. Train acc: 0.745. Train Loss: 0.704\n",
      "Step 210, time since epoch: 42.507. Train acc: 0.755. Train Loss: 0.675\n",
      "Step 220, time since epoch: 44.535. Train acc: 0.766. Train Loss: 0.647\n",
      "Step 230, time since epoch: 46.523. Train acc: 0.775. Train Loss: 0.621\n",
      "epoch 1, loss 0.6134, train acc 0.778, test acc 0.980, time 52.7 sec\n"
     ]
    }
   ],
   "source": [
    "lr, num_epochs = 0.001, 1\n",
    "optimizer = torch.optim.Adam(net.parameters(), lr=lr)\n",
    "train(net, train_iter, test_iter, optimizer, num_epochs, device)"
   ]
  },
  {
   "cell_type": "code",
   "execution_count": null,
   "id": "05b822f9",
   "metadata": {},
   "outputs": [],
   "source": []
  }
 ],
 "metadata": {
  "kernelspec": {
   "display_name": "new-kernel",
   "language": "python",
   "name": "new-kernel"
  },
  "language_info": {
   "codemirror_mode": {
    "name": "ipython",
    "version": 3
   },
   "file_extension": ".py",
   "mimetype": "text/x-python",
   "name": "python",
   "nbconvert_exporter": "python",
   "pygments_lexer": "ipython3",
   "version": "3.11.12"
  }
 },
 "nbformat": 4,
 "nbformat_minor": 5
}
